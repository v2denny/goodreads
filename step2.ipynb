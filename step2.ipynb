{
 "cells": [
  {
   "cell_type": "markdown",
   "metadata": {},
   "source": [
    "## **Step2: LLM**\n",
    "- Splitted the 15k tokenized dataset into 80/20\n",
    "- Used Hugging Face Trainer\n",
    "- Used distilbert-base-uncased pretained model"
   ]
  },
  {
   "cell_type": "code",
   "execution_count": 1,
   "metadata": {},
   "outputs": [],
   "source": [
    "import pandas as pd\n",
    "from transformers import AutoModelForSequenceClassification, Trainer, TrainingArguments, AutoTokenizer\n",
    "from datasets import Dataset\n",
    "import torch\n",
    "import numpy as np\n",
    "from sklearn.model_selection import train_test_split\n",
    "from sklearn.metrics import mean_absolute_error, r2_score, accuracy_score\n",
    "import seaborn as sns\n",
    "import ast\n",
    "import matplotlib.pyplot as plt\n",
    "import optuna"
   ]
  },
  {
   "cell_type": "markdown",
   "metadata": {},
   "source": [
    "### **Deleting empty entries**\n",
    "- When running the trainer for the first time we noticed an error\n",
    "- The error was \"ValueError: expected sequence of length 512 at dim 1 (got 0)\"\n",
    "- So we filtered those empty reviews before training"
   ]
  },
  {
   "cell_type": "code",
   "execution_count": null,
   "metadata": {},
   "outputs": [],
   "source": [
    "df = pd.read_csv('goodreads_15k_english_tokenized.csv')\n",
    "\n",
    "original_length = len(df)\n",
    "\n",
    "# Step 2: Filter out rows where `input_ids` or `attention_mask` are empty\n",
    "df = df[df['input_ids'].apply(lambda x: len(eval(x)) > 0)]\n",
    "df = df[df['attention_mask'].apply(lambda x: len(eval(x)) > 0)]\n",
    "\n",
    "filtered_length = len(df)\n",
    "deleted_entries = original_length - filtered_length\n",
    "print(f\"Number of entries deleted because they were empty: {deleted_entries}\")\n",
    "\n",
    "df.to_csv('goodreads_15k_english_tokenized_filtered.csv', index=False)"
   ]
  },
  {
   "cell_type": "code",
   "execution_count": 2,
   "metadata": {},
   "outputs": [],
   "source": [
    "def compute_metrics(eval_pred):\n",
    "    predictions, labels = eval_pred\n",
    "    predictions = predictions.squeeze()\n",
    "    \n",
    "    # Manually calculate Mean Squared Error (MSE)\n",
    "    mse = np.mean((predictions - labels) ** 2)\n",
    "    mae = mean_absolute_error(labels, predictions)\n",
    "    r2 = r2_score(labels, predictions)\n",
    "    \n",
    "    # Pseudo-Accuracy: Round predictions to nearest integer and clip to valid range (1-5)\n",
    "    rounded_predictions = np.round(predictions).clip(1, 5)\n",
    "    accuracy = accuracy_score(labels, rounded_predictions)\n",
    "    \n",
    "    return {\n",
    "        \"MSE\": mse,\n",
    "        \"MAE\": mae,\n",
    "        \"R2 Score\": r2,\n",
    "        \"Pseudo-Accuracy\": accuracy\n",
    "    }"
   ]
  },
  {
   "cell_type": "markdown",
   "metadata": {},
   "source": [
    "### **LLM Fine Tuning - Optuna**\n",
    "- We will use optuna tool for hyperparameter searching\n",
    "- Just 2.5k entries per genre for the Fine Tuning part (best params will be ran in the full ds later)\n",
    "- We will use GPU to make the process faster\n",
    "- By simply adding \".to(\"cuda\")\"\n",
    "- CPU: 12hrs -> GPU: 12mins (in a 50k entries dataset)"
   ]
  },
  {
   "cell_type": "code",
   "execution_count": 3,
   "metadata": {},
   "outputs": [
    {
     "data": {
      "application/vnd.jupyter.widget-view+json": {
       "model_id": "dde25d651e59454eb02ace2a38fa3edd",
       "version_major": 2,
       "version_minor": 0
      },
      "text/plain": [
       "Map:   0%|          | 0/20000 [00:00<?, ? examples/s]"
      ]
     },
     "metadata": {},
     "output_type": "display_data"
    },
    {
     "data": {
      "application/vnd.jupyter.widget-view+json": {
       "model_id": "a035220afc674def9e735cfdd3b43c29",
       "version_major": 2,
       "version_minor": 0
      },
      "text/plain": [
       "Map:   0%|          | 0/2500 [00:00<?, ? examples/s]"
      ]
     },
     "metadata": {},
     "output_type": "display_data"
    },
    {
     "data": {
      "application/vnd.jupyter.widget-view+json": {
       "model_id": "da966b5d02fe4e1db4bf04635202a417",
       "version_major": 2,
       "version_minor": 0
      },
      "text/plain": [
       "Map:   0%|          | 0/2500 [00:00<?, ? examples/s]"
      ]
     },
     "metadata": {},
     "output_type": "display_data"
    }
   ],
   "source": [
    "# Load the full dataset\n",
    "file_path = 'goodreads_15k_english_tokenized_filtered.csv'\n",
    "df = pd.read_csv(file_path)\n",
    "\n",
    "# Sample 2,500 entries per genre\n",
    "sample_size = 2500\n",
    "unique_genres = df['genres'].unique()\n",
    "sampled_data = []\n",
    "\n",
    "for genre in unique_genres:\n",
    "    genre_subset = df[df['genres'] == genre]\n",
    "    if len(genre_subset) >= sample_size:\n",
    "        genre_sample = genre_subset.sample(n=sample_size, random_state=42)\n",
    "    else:\n",
    "        genre_sample = genre_subset\n",
    "    sampled_data.append(genre_sample)\n",
    "\n",
    "small_sample_df = pd.concat(sampled_data, ignore_index=True)\n",
    "small_sample_dataset = Dataset.from_pandas(small_sample_df)\n",
    "\n",
    "# Define the function to adjust the dataset for regression\n",
    "def convert_to_tensor(examples):\n",
    "    return {\n",
    "        'input_ids': torch.tensor(eval(examples['input_ids']), dtype=torch.long),\n",
    "        'attention_mask': torch.tensor(eval(examples['attention_mask']), dtype=torch.long),\n",
    "        'labels': torch.tensor(examples['rating'], dtype=torch.float)\n",
    "    }\n",
    "\n",
    "train_val_test_split = small_sample_dataset.train_test_split(test_size=0.2, seed=42)\n",
    "train_dataset = train_val_test_split['train']\n",
    "val_test_split = train_val_test_split['test'].train_test_split(test_size=0.5, seed=42)\n",
    "val_dataset = val_test_split['train']\n",
    "test_dataset = val_test_split['test']\n",
    "\n",
    "train_dataset = train_dataset.map(convert_to_tensor, remove_columns=['input_ids', 'attention_mask', 'rating'])\n",
    "val_dataset = val_dataset.map(convert_to_tensor, remove_columns=['input_ids', 'attention_mask', 'rating'])\n",
    "test_dataset = test_dataset.map(convert_to_tensor, remove_columns=['input_ids', 'attention_mask', 'rating'])"
   ]
  },
  {
   "cell_type": "code",
   "execution_count": 4,
   "metadata": {},
   "outputs": [],
   "source": [
    "def objective(trial):\n",
    "    # Hyperparameter suggestions\n",
    "    learning_rate = trial.suggest_loguniform(\"learning_rate\", 1e-5, 5e-5)\n",
    "    batch_size = trial.suggest_categorical(\"batch_size\", [8, 16, 32])\n",
    "    weight_decay = trial.suggest_loguniform(\"weight_decay\", 1e-4, 1e-2)\n",
    "    gradient_accumulation_steps = trial.suggest_int(\"gradient_accumulation_steps\", 1, 4)\n",
    "    max_grad_norm = trial.suggest_float(\"max_grad_norm\", 0.5, 1.0)\n",
    "    adam_beta1 = trial.suggest_float(\"adam_beta1\", 0.85, 0.95)\n",
    "    adam_beta2 = trial.suggest_float(\"adam_beta2\", 0.98, 0.999)\n",
    "    fp16 = trial.suggest_categorical(\"fp16\", [True, False])\n",
    "\n",
    "    # Initialize model for regression\n",
    "    model = AutoModelForSequenceClassification.from_pretrained(\"distilbert-base-uncased\", num_labels=1).to(\"cuda\")\n",
    "\n",
    "    # Set up training arguments\n",
    "    training_args = TrainingArguments(\n",
    "        output_dir=\"./results\",\n",
    "        evaluation_strategy=\"epoch\",\n",
    "        learning_rate=learning_rate,\n",
    "        per_device_train_batch_size=batch_size,\n",
    "        num_train_epochs=1,\n",
    "        weight_decay=weight_decay,\n",
    "        gradient_accumulation_steps=gradient_accumulation_steps,\n",
    "        max_grad_norm=max_grad_norm,\n",
    "        adam_beta1=adam_beta1,\n",
    "        adam_beta2=adam_beta2,\n",
    "        fp16=fp16,\n",
    "        save_strategy=\"epoch\",\n",
    "        logging_dir=\"./logs\",\n",
    "        load_best_model_at_end=True,\n",
    "    )\n",
    "\n",
    "    # Define Trainer\n",
    "    trainer = Trainer(\n",
    "        model=model,\n",
    "        args=training_args,\n",
    "        train_dataset=train_dataset,\n",
    "        eval_dataset=val_dataset,\n",
    "        compute_metrics=compute_metrics\n",
    "    )\n",
    "\n",
    "    # Train and evaluate\n",
    "    trainer.train()\n",
    "    eval_result = trainer.evaluate()\n",
    "    \n",
    "    # Store model in the trial's user attributes to retrieve it later\n",
    "    trial.set_user_attr(\"model\", model)\n",
    "    \n",
    "    return eval_result[\"eval_loss\"]"
   ]
  },
  {
   "cell_type": "code",
   "execution_count": 5,
   "metadata": {},
   "outputs": [
    {
     "name": "stderr",
     "output_type": "stream",
     "text": [
      "[I 2024-11-02 22:32:03,565] A new study created in memory with name: no-name-5e0cde36-17d9-4e82-ad91-aa1890fad838\n",
      "C:\\Users\\danie\\AppData\\Local\\Temp\\ipykernel_36500\\2839455619.py:3: FutureWarning: suggest_loguniform has been deprecated in v3.0.0. This feature will be removed in v6.0.0. See https://github.com/optuna/optuna/releases/tag/v3.0.0. Use suggest_float(..., log=True) instead.\n",
      "  learning_rate = trial.suggest_loguniform(\"learning_rate\", 1e-5, 5e-5)\n",
      "C:\\Users\\danie\\AppData\\Local\\Temp\\ipykernel_36500\\2839455619.py:5: FutureWarning: suggest_loguniform has been deprecated in v3.0.0. This feature will be removed in v6.0.0. See https://github.com/optuna/optuna/releases/tag/v3.0.0. Use suggest_float(..., log=True) instead.\n",
      "  weight_decay = trial.suggest_loguniform(\"weight_decay\", 1e-4, 1e-2)\n",
      "Some weights of DistilBertForSequenceClassification were not initialized from the model checkpoint at distilbert-base-uncased and are newly initialized: ['classifier.bias', 'classifier.weight', 'pre_classifier.bias', 'pre_classifier.weight']\n",
      "You should probably TRAIN this model on a down-stream task to be able to use it for predictions and inference.\n"
     ]
    },
    {
     "data": {
      "application/vnd.jupyter.widget-view+json": {
       "model_id": "9bd4bb9c56a3492e9bfcfcfec5b8f23f",
       "version_major": 2,
       "version_minor": 0
      },
      "text/plain": [
       "  0%|          | 0/1250 [00:00<?, ?it/s]"
      ]
     },
     "metadata": {},
     "output_type": "display_data"
    },
    {
     "name": "stdout",
     "output_type": "stream",
     "text": [
      "{'loss': 1.6231, 'grad_norm': 18.232452392578125, 'learning_rate': 9.85226850554304e-06, 'epoch': 0.4}\n",
      "{'loss': 0.9995, 'grad_norm': 16.850675582885742, 'learning_rate': 3.318933952795666e-06, 'epoch': 0.8}\n"
     ]
    },
    {
     "data": {
      "application/vnd.jupyter.widget-view+json": {
       "model_id": "e3bf9228348e4cf8965315c2d82a1ad9",
       "version_major": 2,
       "version_minor": 0
      },
      "text/plain": [
       "  0%|          | 0/313 [00:00<?, ?it/s]"
      ]
     },
     "metadata": {},
     "output_type": "display_data"
    },
    {
     "name": "stdout",
     "output_type": "stream",
     "text": [
      "{'eval_loss': 1.0077018737792969, 'eval_MSE': 1.0077018737792969, 'eval_MAE': 0.6943835020065308, 'eval_R2 Score': 0.35421282052993774, 'eval_Pseudo-Accuracy': 0.4932, 'eval_runtime': 7.0342, 'eval_samples_per_second': 355.409, 'eval_steps_per_second': 44.497, 'epoch': 1.0}\n",
      "{'train_runtime': 198.6939, 'train_samples_per_second': 100.657, 'train_steps_per_second': 6.291, 'train_loss': 1.2222165649414063, 'epoch': 1.0}\n"
     ]
    },
    {
     "data": {
      "application/vnd.jupyter.widget-view+json": {
       "model_id": "e67f413ecb9c41eca28f53d14caa73db",
       "version_major": 2,
       "version_minor": 0
      },
      "text/plain": [
       "  0%|          | 0/313 [00:00<?, ?it/s]"
      ]
     },
     "metadata": {},
     "output_type": "display_data"
    },
    {
     "name": "stderr",
     "output_type": "stream",
     "text": [
      "[I 2024-11-02 22:35:32,660] Trial 0 finished with value: 1.0077018737792969 and parameters: {'learning_rate': 1.6333336381868436e-05, 'batch_size': 16, 'weight_decay': 0.008033590077146486, 'gradient_accumulation_steps': 1, 'max_grad_norm': 0.5356776731497133, 'adam_beta1': 0.8756968768489233, 'adam_beta2': 0.9907722218527304, 'fp16': True}. Best is trial 0 with value: 1.0077018737792969.\n",
      "C:\\Users\\danie\\AppData\\Local\\Temp\\ipykernel_36500\\2839455619.py:3: FutureWarning: suggest_loguniform has been deprecated in v3.0.0. This feature will be removed in v6.0.0. See https://github.com/optuna/optuna/releases/tag/v3.0.0. Use suggest_float(..., log=True) instead.\n",
      "  learning_rate = trial.suggest_loguniform(\"learning_rate\", 1e-5, 5e-5)\n",
      "C:\\Users\\danie\\AppData\\Local\\Temp\\ipykernel_36500\\2839455619.py:5: FutureWarning: suggest_loguniform has been deprecated in v3.0.0. This feature will be removed in v6.0.0. See https://github.com/optuna/optuna/releases/tag/v3.0.0. Use suggest_float(..., log=True) instead.\n",
      "  weight_decay = trial.suggest_loguniform(\"weight_decay\", 1e-4, 1e-2)\n",
      "Some weights of DistilBertForSequenceClassification were not initialized from the model checkpoint at distilbert-base-uncased and are newly initialized: ['classifier.bias', 'classifier.weight', 'pre_classifier.bias', 'pre_classifier.weight']\n",
      "You should probably TRAIN this model on a down-stream task to be able to use it for predictions and inference.\n"
     ]
    },
    {
     "data": {
      "application/vnd.jupyter.widget-view+json": {
       "model_id": "19b6ac2e215048568f4281947fb20df4",
       "version_major": 2,
       "version_minor": 0
      },
      "text/plain": [
       "  0%|          | 0/312 [00:00<?, ?it/s]"
      ]
     },
     "metadata": {},
     "output_type": "display_data"
    },
    {
     "data": {
      "application/vnd.jupyter.widget-view+json": {
       "model_id": "2d1e56fb5e3a4375971c0bd714df968c",
       "version_major": 2,
       "version_minor": 0
      },
      "text/plain": [
       "  0%|          | 0/313 [00:00<?, ?it/s]"
      ]
     },
     "metadata": {},
     "output_type": "display_data"
    },
    {
     "name": "stdout",
     "output_type": "stream",
     "text": [
      "{'eval_loss': 1.0633667707443237, 'eval_MSE': 1.0633667707443237, 'eval_MAE': 0.7390550971031189, 'eval_R2 Score': 0.3185398578643799, 'eval_Pseudo-Accuracy': 0.4644, 'eval_runtime': 7.047, 'eval_samples_per_second': 354.763, 'eval_steps_per_second': 44.416, 'epoch': 1.0}\n",
      "{'train_runtime': 182.7079, 'train_samples_per_second': 109.464, 'train_steps_per_second': 1.708, 'train_loss': 1.8110592181865985, 'epoch': 1.0}\n"
     ]
    },
    {
     "data": {
      "application/vnd.jupyter.widget-view+json": {
       "model_id": "d7f266e11e6940a387794391524445bc",
       "version_major": 2,
       "version_minor": 0
      },
      "text/plain": [
       "  0%|          | 0/313 [00:00<?, ?it/s]"
      ]
     },
     "metadata": {},
     "output_type": "display_data"
    },
    {
     "name": "stderr",
     "output_type": "stream",
     "text": [
      "[I 2024-11-02 22:38:42,878] Trial 1 finished with value: 1.0633667707443237 and parameters: {'learning_rate': 1.4994750134709102e-05, 'batch_size': 16, 'weight_decay': 0.0006443163255965891, 'gradient_accumulation_steps': 4, 'max_grad_norm': 0.6188377733737471, 'adam_beta1': 0.9037882032232003, 'adam_beta2': 0.9977906232424748, 'fp16': True}. Best is trial 0 with value: 1.0077018737792969.\n",
      "C:\\Users\\danie\\AppData\\Local\\Temp\\ipykernel_36500\\2839455619.py:3: FutureWarning: suggest_loguniform has been deprecated in v3.0.0. This feature will be removed in v6.0.0. See https://github.com/optuna/optuna/releases/tag/v3.0.0. Use suggest_float(..., log=True) instead.\n",
      "  learning_rate = trial.suggest_loguniform(\"learning_rate\", 1e-5, 5e-5)\n",
      "C:\\Users\\danie\\AppData\\Local\\Temp\\ipykernel_36500\\2839455619.py:5: FutureWarning: suggest_loguniform has been deprecated in v3.0.0. This feature will be removed in v6.0.0. See https://github.com/optuna/optuna/releases/tag/v3.0.0. Use suggest_float(..., log=True) instead.\n",
      "  weight_decay = trial.suggest_loguniform(\"weight_decay\", 1e-4, 1e-2)\n",
      "Some weights of DistilBertForSequenceClassification were not initialized from the model checkpoint at distilbert-base-uncased and are newly initialized: ['classifier.bias', 'classifier.weight', 'pre_classifier.bias', 'pre_classifier.weight']\n",
      "You should probably TRAIN this model on a down-stream task to be able to use it for predictions and inference.\n"
     ]
    },
    {
     "data": {
      "application/vnd.jupyter.widget-view+json": {
       "model_id": "b0bfb957bbce4fa9bdfa3dd7a9ca26aa",
       "version_major": 2,
       "version_minor": 0
      },
      "text/plain": [
       "  0%|          | 0/1250 [00:00<?, ?it/s]"
      ]
     },
     "metadata": {},
     "output_type": "display_data"
    },
    {
     "name": "stdout",
     "output_type": "stream",
     "text": [
      "{'loss': 1.7669, 'grad_norm': 22.771835327148438, 'learning_rate': 7.446888518803957e-06, 'epoch': 0.4}\n",
      "{'loss': 1.023, 'grad_norm': 18.589927673339844, 'learning_rate': 2.5086335328596886e-06, 'epoch': 0.8}\n"
     ]
    },
    {
     "data": {
      "application/vnd.jupyter.widget-view+json": {
       "model_id": "8b77cc259fc5460790a0d04fb024d750",
       "version_major": 2,
       "version_minor": 0
      },
      "text/plain": [
       "  0%|          | 0/313 [00:00<?, ?it/s]"
      ]
     },
     "metadata": {},
     "output_type": "display_data"
    },
    {
     "name": "stdout",
     "output_type": "stream",
     "text": [
      "{'eval_loss': 1.0265125036239624, 'eval_MSE': 1.0265125036239624, 'eval_MAE': 0.7063410878181458, 'eval_R2 Score': 0.3421580195426941, 'eval_Pseudo-Accuracy': 0.478, 'eval_runtime': 7.064, 'eval_samples_per_second': 353.908, 'eval_steps_per_second': 44.309, 'epoch': 1.0}\n",
      "{'train_runtime': 198.4558, 'train_samples_per_second': 100.778, 'train_steps_per_second': 6.299, 'train_loss': 1.2945676513671875, 'epoch': 1.0}\n"
     ]
    },
    {
     "data": {
      "application/vnd.jupyter.widget-view+json": {
       "model_id": "bfdbb75a32424624a8283e41d589af21",
       "version_major": 2,
       "version_minor": 0
      },
      "text/plain": [
       "  0%|          | 0/313 [00:00<?, ?it/s]"
      ]
     },
     "metadata": {},
     "output_type": "display_data"
    },
    {
     "name": "stderr",
     "output_type": "stream",
     "text": [
      "[I 2024-11-02 22:42:09,079] Trial 2 finished with value: 1.0265125036239624 and parameters: {'learning_rate': 1.2345637464860672e-05, 'batch_size': 16, 'weight_decay': 0.0005001398655122933, 'gradient_accumulation_steps': 1, 'max_grad_norm': 0.7085004878066854, 'adam_beta1': 0.8924511129479792, 'adam_beta2': 0.9818442746930047, 'fp16': False}. Best is trial 0 with value: 1.0077018737792969.\n",
      "C:\\Users\\danie\\AppData\\Local\\Temp\\ipykernel_36500\\2839455619.py:3: FutureWarning: suggest_loguniform has been deprecated in v3.0.0. This feature will be removed in v6.0.0. See https://github.com/optuna/optuna/releases/tag/v3.0.0. Use suggest_float(..., log=True) instead.\n",
      "  learning_rate = trial.suggest_loguniform(\"learning_rate\", 1e-5, 5e-5)\n",
      "C:\\Users\\danie\\AppData\\Local\\Temp\\ipykernel_36500\\2839455619.py:5: FutureWarning: suggest_loguniform has been deprecated in v3.0.0. This feature will be removed in v6.0.0. See https://github.com/optuna/optuna/releases/tag/v3.0.0. Use suggest_float(..., log=True) instead.\n",
      "  weight_decay = trial.suggest_loguniform(\"weight_decay\", 1e-4, 1e-2)\n",
      "Some weights of DistilBertForSequenceClassification were not initialized from the model checkpoint at distilbert-base-uncased and are newly initialized: ['classifier.bias', 'classifier.weight', 'pre_classifier.bias', 'pre_classifier.weight']\n",
      "You should probably TRAIN this model on a down-stream task to be able to use it for predictions and inference.\n"
     ]
    },
    {
     "data": {
      "application/vnd.jupyter.widget-view+json": {
       "model_id": "6d85407e354a404c9e8f58bf05829cfb",
       "version_major": 2,
       "version_minor": 0
      },
      "text/plain": [
       "  0%|          | 0/2500 [00:00<?, ?it/s]"
      ]
     },
     "metadata": {},
     "output_type": "display_data"
    },
    {
     "name": "stdout",
     "output_type": "stream",
     "text": [
      "{'loss': 1.6828, 'grad_norm': 9.02029037475586, 'learning_rate': 1.5156541949943913e-05, 'epoch': 0.2}\n",
      "{'loss': 1.0169, 'grad_norm': 12.663420677185059, 'learning_rate': 1.1374969607143537e-05, 'epoch': 0.4}\n",
      "{'loss': 0.9788, 'grad_norm': 13.102641105651855, 'learning_rate': 7.593397264343159e-06, 'epoch': 0.6}\n",
      "{'loss': 0.9519, 'grad_norm': 31.94923973083496, 'learning_rate': 3.8118249215427806e-06, 'epoch': 0.8}\n",
      "{'loss': 0.8487, 'grad_norm': 35.29822540283203, 'learning_rate': 3.7815723428003777e-08, 'epoch': 1.0}\n"
     ]
    },
    {
     "data": {
      "application/vnd.jupyter.widget-view+json": {
       "model_id": "ff248aa82df5494586b0ce9f2d4fa53e",
       "version_major": 2,
       "version_minor": 0
      },
      "text/plain": [
       "  0%|          | 0/313 [00:00<?, ?it/s]"
      ]
     },
     "metadata": {},
     "output_type": "display_data"
    },
    {
     "name": "stdout",
     "output_type": "stream",
     "text": [
      "{'eval_loss': 0.9684329032897949, 'eval_MSE': 0.9684329032897949, 'eval_MAE': 0.6748780012130737, 'eval_R2 Score': 0.37937837839126587, 'eval_Pseudo-Accuracy': 0.5072, 'eval_runtime': 7.0891, 'eval_samples_per_second': 352.657, 'eval_steps_per_second': 44.153, 'epoch': 1.0}\n",
      "{'train_runtime': 217.3866, 'train_samples_per_second': 92.002, 'train_steps_per_second': 11.5, 'train_loss': 1.0958080810546875, 'epoch': 1.0}\n"
     ]
    },
    {
     "data": {
      "application/vnd.jupyter.widget-view+json": {
       "model_id": "013841f9a5c248dca70c1857be50e11d",
       "version_major": 2,
       "version_minor": 0
      },
      "text/plain": [
       "  0%|          | 0/313 [00:00<?, ?it/s]"
      ]
     },
     "metadata": {},
     "output_type": "display_data"
    },
    {
     "name": "stderr",
     "output_type": "stream",
     "text": [
      "[I 2024-11-02 22:45:54,199] Trial 3 finished with value: 0.9684329032897949 and parameters: {'learning_rate': 1.890786171400189e-05, 'batch_size': 8, 'weight_decay': 0.000707805821402821, 'gradient_accumulation_steps': 1, 'max_grad_norm': 0.5364404114188963, 'adam_beta1': 0.9046655009641287, 'adam_beta2': 0.9937396295638947, 'fp16': False}. Best is trial 3 with value: 0.9684329032897949.\n",
      "C:\\Users\\danie\\AppData\\Local\\Temp\\ipykernel_36500\\2839455619.py:3: FutureWarning: suggest_loguniform has been deprecated in v3.0.0. This feature will be removed in v6.0.0. See https://github.com/optuna/optuna/releases/tag/v3.0.0. Use suggest_float(..., log=True) instead.\n",
      "  learning_rate = trial.suggest_loguniform(\"learning_rate\", 1e-5, 5e-5)\n",
      "C:\\Users\\danie\\AppData\\Local\\Temp\\ipykernel_36500\\2839455619.py:5: FutureWarning: suggest_loguniform has been deprecated in v3.0.0. This feature will be removed in v6.0.0. See https://github.com/optuna/optuna/releases/tag/v3.0.0. Use suggest_float(..., log=True) instead.\n",
      "  weight_decay = trial.suggest_loguniform(\"weight_decay\", 1e-4, 1e-2)\n",
      "Some weights of DistilBertForSequenceClassification were not initialized from the model checkpoint at distilbert-base-uncased and are newly initialized: ['classifier.bias', 'classifier.weight', 'pre_classifier.bias', 'pre_classifier.weight']\n",
      "You should probably TRAIN this model on a down-stream task to be able to use it for predictions and inference.\n"
     ]
    },
    {
     "data": {
      "application/vnd.jupyter.widget-view+json": {
       "model_id": "168b15c907954f4ba4a9fa72f560845e",
       "version_major": 2,
       "version_minor": 0
      },
      "text/plain": [
       "  0%|          | 0/312 [00:00<?, ?it/s]"
      ]
     },
     "metadata": {},
     "output_type": "display_data"
    },
    {
     "data": {
      "application/vnd.jupyter.widget-view+json": {
       "model_id": "57a2c81396a14c4e94d342dce60fa5f4",
       "version_major": 2,
       "version_minor": 0
      },
      "text/plain": [
       "  0%|          | 0/313 [00:00<?, ?it/s]"
      ]
     },
     "metadata": {},
     "output_type": "display_data"
    },
    {
     "name": "stdout",
     "output_type": "stream",
     "text": [
      "{'eval_loss': 1.0442233085632324, 'eval_MSE': 1.0442233085632324, 'eval_MAE': 0.7277039289474487, 'eval_R2 Score': 0.33080798387527466, 'eval_Pseudo-Accuracy': 0.4644, 'eval_runtime': 7.1561, 'eval_samples_per_second': 349.354, 'eval_steps_per_second': 43.739, 'epoch': 1.0}\n",
      "{'train_runtime': 184.2464, 'train_samples_per_second': 108.55, 'train_steps_per_second': 1.693, 'train_loss': 1.6315928728152544, 'epoch': 1.0}\n"
     ]
    },
    {
     "data": {
      "application/vnd.jupyter.widget-view+json": {
       "model_id": "5955d119089f402c9d533a68825233f1",
       "version_major": 2,
       "version_minor": 0
      },
      "text/plain": [
       "  0%|          | 0/313 [00:00<?, ?it/s]"
      ]
     },
     "metadata": {},
     "output_type": "display_data"
    },
    {
     "name": "stderr",
     "output_type": "stream",
     "text": [
      "[I 2024-11-02 22:49:06,057] Trial 4 finished with value: 1.0442233085632324 and parameters: {'learning_rate': 2.349161345563243e-05, 'batch_size': 16, 'weight_decay': 0.0004299844200647237, 'gradient_accumulation_steps': 4, 'max_grad_norm': 0.6073943028219319, 'adam_beta1': 0.9312332224480098, 'adam_beta2': 0.9861014353838427, 'fp16': True}. Best is trial 3 with value: 0.9684329032897949.\n",
      "C:\\Users\\danie\\AppData\\Local\\Temp\\ipykernel_36500\\2839455619.py:3: FutureWarning: suggest_loguniform has been deprecated in v3.0.0. This feature will be removed in v6.0.0. See https://github.com/optuna/optuna/releases/tag/v3.0.0. Use suggest_float(..., log=True) instead.\n",
      "  learning_rate = trial.suggest_loguniform(\"learning_rate\", 1e-5, 5e-5)\n",
      "C:\\Users\\danie\\AppData\\Local\\Temp\\ipykernel_36500\\2839455619.py:5: FutureWarning: suggest_loguniform has been deprecated in v3.0.0. This feature will be removed in v6.0.0. See https://github.com/optuna/optuna/releases/tag/v3.0.0. Use suggest_float(..., log=True) instead.\n",
      "  weight_decay = trial.suggest_loguniform(\"weight_decay\", 1e-4, 1e-2)\n",
      "Some weights of DistilBertForSequenceClassification were not initialized from the model checkpoint at distilbert-base-uncased and are newly initialized: ['classifier.bias', 'classifier.weight', 'pre_classifier.bias', 'pre_classifier.weight']\n",
      "You should probably TRAIN this model on a down-stream task to be able to use it for predictions and inference.\n"
     ]
    },
    {
     "data": {
      "application/vnd.jupyter.widget-view+json": {
       "model_id": "339508fa4cc84180bbe14e0efbdf90c6",
       "version_major": 2,
       "version_minor": 0
      },
      "text/plain": [
       "  0%|          | 0/156 [00:00<?, ?it/s]"
      ]
     },
     "metadata": {},
     "output_type": "display_data"
    },
    {
     "data": {
      "application/vnd.jupyter.widget-view+json": {
       "model_id": "5a0ec2ec8bc54f9b8bd1bc2a36ab1604",
       "version_major": 2,
       "version_minor": 0
      },
      "text/plain": [
       "  0%|          | 0/313 [00:00<?, ?it/s]"
      ]
     },
     "metadata": {},
     "output_type": "display_data"
    },
    {
     "name": "stdout",
     "output_type": "stream",
     "text": [
      "{'eval_loss': 1.0921770334243774, 'eval_MSE': 1.092177152633667, 'eval_MAE': 0.7508453130722046, 'eval_R2 Score': 0.3000767230987549, 'eval_Pseudo-Accuracy': 0.4596, 'eval_runtime': 7.1853, 'eval_samples_per_second': 347.935, 'eval_steps_per_second': 43.561, 'epoch': 1.0}\n",
      "{'train_runtime': 183.8006, 'train_samples_per_second': 108.814, 'train_steps_per_second': 0.849, 'train_loss': 2.0642496744791665, 'epoch': 1.0}\n"
     ]
    },
    {
     "data": {
      "application/vnd.jupyter.widget-view+json": {
       "model_id": "811739f982694bb5bae52a0c86b807c5",
       "version_major": 2,
       "version_minor": 0
      },
      "text/plain": [
       "  0%|          | 0/313 [00:00<?, ?it/s]"
      ]
     },
     "metadata": {},
     "output_type": "display_data"
    },
    {
     "name": "stderr",
     "output_type": "stream",
     "text": [
      "[I 2024-11-02 22:52:17,535] Trial 5 finished with value: 1.0921770334243774 and parameters: {'learning_rate': 2.579868260405559e-05, 'batch_size': 32, 'weight_decay': 0.0005062558477311894, 'gradient_accumulation_steps': 4, 'max_grad_norm': 0.8179601915313124, 'adam_beta1': 0.9268689096918085, 'adam_beta2': 0.9940259465434544, 'fp16': True}. Best is trial 3 with value: 0.9684329032897949.\n",
      "C:\\Users\\danie\\AppData\\Local\\Temp\\ipykernel_36500\\2839455619.py:3: FutureWarning: suggest_loguniform has been deprecated in v3.0.0. This feature will be removed in v6.0.0. See https://github.com/optuna/optuna/releases/tag/v3.0.0. Use suggest_float(..., log=True) instead.\n",
      "  learning_rate = trial.suggest_loguniform(\"learning_rate\", 1e-5, 5e-5)\n",
      "C:\\Users\\danie\\AppData\\Local\\Temp\\ipykernel_36500\\2839455619.py:5: FutureWarning: suggest_loguniform has been deprecated in v3.0.0. This feature will be removed in v6.0.0. See https://github.com/optuna/optuna/releases/tag/v3.0.0. Use suggest_float(..., log=True) instead.\n",
      "  weight_decay = trial.suggest_loguniform(\"weight_decay\", 1e-4, 1e-2)\n",
      "Some weights of DistilBertForSequenceClassification were not initialized from the model checkpoint at distilbert-base-uncased and are newly initialized: ['classifier.bias', 'classifier.weight', 'pre_classifier.bias', 'pre_classifier.weight']\n",
      "You should probably TRAIN this model on a down-stream task to be able to use it for predictions and inference.\n"
     ]
    },
    {
     "data": {
      "application/vnd.jupyter.widget-view+json": {
       "model_id": "e3f01195ee1a4107a5eaca47eddf5129",
       "version_major": 2,
       "version_minor": 0
      },
      "text/plain": [
       "  0%|          | 0/416 [00:00<?, ?it/s]"
      ]
     },
     "metadata": {},
     "output_type": "display_data"
    },
    {
     "data": {
      "application/vnd.jupyter.widget-view+json": {
       "model_id": "94d1e49667474739b2164b71ba1ed807",
       "version_major": 2,
       "version_minor": 0
      },
      "text/plain": [
       "  0%|          | 0/313 [00:00<?, ?it/s]"
      ]
     },
     "metadata": {},
     "output_type": "display_data"
    },
    {
     "name": "stdout",
     "output_type": "stream",
     "text": [
      "{'eval_loss': 1.0088127851486206, 'eval_MSE': 1.0088127851486206, 'eval_MAE': 0.7091414332389832, 'eval_R2 Score': 0.3535009026527405, 'eval_Pseudo-Accuracy': 0.4812, 'eval_runtime': 7.2149, 'eval_samples_per_second': 346.504, 'eval_steps_per_second': 43.382, 'epoch': 1.0}\n",
      "{'train_runtime': 186.6689, 'train_samples_per_second': 107.142, 'train_steps_per_second': 2.229, 'train_loss': 1.3923184321476862, 'epoch': 1.0}\n"
     ]
    },
    {
     "data": {
      "application/vnd.jupyter.widget-view+json": {
       "model_id": "9690d250e43b4340b966ac271abd4bbf",
       "version_major": 2,
       "version_minor": 0
      },
      "text/plain": [
       "  0%|          | 0/313 [00:00<?, ?it/s]"
      ]
     },
     "metadata": {},
     "output_type": "display_data"
    },
    {
     "name": "stderr",
     "output_type": "stream",
     "text": [
      "[I 2024-11-02 22:55:31,919] Trial 6 finished with value: 1.0088127851486206 and parameters: {'learning_rate': 2.872652524098916e-05, 'batch_size': 16, 'weight_decay': 0.00027215085426038387, 'gradient_accumulation_steps': 3, 'max_grad_norm': 0.808367736431004, 'adam_beta1': 0.8944872327224975, 'adam_beta2': 0.9813212348992457, 'fp16': False}. Best is trial 3 with value: 0.9684329032897949.\n",
      "C:\\Users\\danie\\AppData\\Local\\Temp\\ipykernel_36500\\2839455619.py:3: FutureWarning: suggest_loguniform has been deprecated in v3.0.0. This feature will be removed in v6.0.0. See https://github.com/optuna/optuna/releases/tag/v3.0.0. Use suggest_float(..., log=True) instead.\n",
      "  learning_rate = trial.suggest_loguniform(\"learning_rate\", 1e-5, 5e-5)\n",
      "C:\\Users\\danie\\AppData\\Local\\Temp\\ipykernel_36500\\2839455619.py:5: FutureWarning: suggest_loguniform has been deprecated in v3.0.0. This feature will be removed in v6.0.0. See https://github.com/optuna/optuna/releases/tag/v3.0.0. Use suggest_float(..., log=True) instead.\n",
      "  weight_decay = trial.suggest_loguniform(\"weight_decay\", 1e-4, 1e-2)\n",
      "Some weights of DistilBertForSequenceClassification were not initialized from the model checkpoint at distilbert-base-uncased and are newly initialized: ['classifier.bias', 'classifier.weight', 'pre_classifier.bias', 'pre_classifier.weight']\n",
      "You should probably TRAIN this model on a down-stream task to be able to use it for predictions and inference.\n"
     ]
    },
    {
     "data": {
      "application/vnd.jupyter.widget-view+json": {
       "model_id": "807dcb482dea4508bbd81cfe4f63accc",
       "version_major": 2,
       "version_minor": 0
      },
      "text/plain": [
       "  0%|          | 0/156 [00:00<?, ?it/s]"
      ]
     },
     "metadata": {},
     "output_type": "display_data"
    },
    {
     "data": {
      "application/vnd.jupyter.widget-view+json": {
       "model_id": "22e8ba14008c42caafcfac8435164c22",
       "version_major": 2,
       "version_minor": 0
      },
      "text/plain": [
       "  0%|          | 0/313 [00:00<?, ?it/s]"
      ]
     },
     "metadata": {},
     "output_type": "display_data"
    },
    {
     "name": "stdout",
     "output_type": "stream",
     "text": [
      "{'eval_loss': 1.0593502521514893, 'eval_MSE': 1.0593502521514893, 'eval_MAE': 0.7379910349845886, 'eval_R2 Score': 0.3211139440536499, 'eval_Pseudo-Accuracy': 0.4568, 'eval_runtime': 7.1944, 'eval_samples_per_second': 347.492, 'eval_steps_per_second': 43.506, 'epoch': 1.0}\n",
      "{'train_runtime': 183.9584, 'train_samples_per_second': 108.72, 'train_steps_per_second': 0.848, 'train_loss': 1.9009931515424678, 'epoch': 1.0}\n"
     ]
    },
    {
     "data": {
      "application/vnd.jupyter.widget-view+json": {
       "model_id": "ff1c7df8338f46209629e6b159280f83",
       "version_major": 2,
       "version_minor": 0
      },
      "text/plain": [
       "  0%|          | 0/313 [00:00<?, ?it/s]"
      ]
     },
     "metadata": {},
     "output_type": "display_data"
    },
    {
     "name": "stderr",
     "output_type": "stream",
     "text": [
      "[I 2024-11-02 22:58:43,599] Trial 7 finished with value: 1.0593502521514893 and parameters: {'learning_rate': 3.144948286097239e-05, 'batch_size': 32, 'weight_decay': 0.00013888887666004587, 'gradient_accumulation_steps': 4, 'max_grad_norm': 0.5069729625955427, 'adam_beta1': 0.9029819643527071, 'adam_beta2': 0.9845103599568569, 'fp16': False}. Best is trial 3 with value: 0.9684329032897949.\n",
      "C:\\Users\\danie\\AppData\\Local\\Temp\\ipykernel_36500\\2839455619.py:3: FutureWarning: suggest_loguniform has been deprecated in v3.0.0. This feature will be removed in v6.0.0. See https://github.com/optuna/optuna/releases/tag/v3.0.0. Use suggest_float(..., log=True) instead.\n",
      "  learning_rate = trial.suggest_loguniform(\"learning_rate\", 1e-5, 5e-5)\n",
      "C:\\Users\\danie\\AppData\\Local\\Temp\\ipykernel_36500\\2839455619.py:5: FutureWarning: suggest_loguniform has been deprecated in v3.0.0. This feature will be removed in v6.0.0. See https://github.com/optuna/optuna/releases/tag/v3.0.0. Use suggest_float(..., log=True) instead.\n",
      "  weight_decay = trial.suggest_loguniform(\"weight_decay\", 1e-4, 1e-2)\n",
      "Some weights of DistilBertForSequenceClassification were not initialized from the model checkpoint at distilbert-base-uncased and are newly initialized: ['classifier.bias', 'classifier.weight', 'pre_classifier.bias', 'pre_classifier.weight']\n",
      "You should probably TRAIN this model on a down-stream task to be able to use it for predictions and inference.\n"
     ]
    },
    {
     "data": {
      "application/vnd.jupyter.widget-view+json": {
       "model_id": "e7c6d3ecec6b4b76a71914f2c69a71db",
       "version_major": 2,
       "version_minor": 0
      },
      "text/plain": [
       "  0%|          | 0/312 [00:00<?, ?it/s]"
      ]
     },
     "metadata": {},
     "output_type": "display_data"
    },
    {
     "data": {
      "application/vnd.jupyter.widget-view+json": {
       "model_id": "5ab2043cf49f45e1b410a5d1302a4b18",
       "version_major": 2,
       "version_minor": 0
      },
      "text/plain": [
       "  0%|          | 0/313 [00:00<?, ?it/s]"
      ]
     },
     "metadata": {},
     "output_type": "display_data"
    },
    {
     "name": "stdout",
     "output_type": "stream",
     "text": [
      "{'eval_loss': 1.0256092548370361, 'eval_MSE': 1.0256091356277466, 'eval_MAE': 0.7154677510261536, 'eval_R2 Score': 0.3427368998527527, 'eval_Pseudo-Accuracy': 0.4928, 'eval_runtime': 7.1981, 'eval_samples_per_second': 347.315, 'eval_steps_per_second': 43.484, 'epoch': 1.0}\n",
      "{'train_runtime': 186.7971, 'train_samples_per_second': 107.068, 'train_steps_per_second': 1.67, 'train_loss': 1.4789995046762319, 'epoch': 1.0}\n"
     ]
    },
    {
     "data": {
      "application/vnd.jupyter.widget-view+json": {
       "model_id": "26c89318cccc4ec2a94c596f5c68f806",
       "version_major": 2,
       "version_minor": 0
      },
      "text/plain": [
       "  0%|          | 0/313 [00:00<?, ?it/s]"
      ]
     },
     "metadata": {},
     "output_type": "display_data"
    },
    {
     "name": "stderr",
     "output_type": "stream",
     "text": [
      "[I 2024-11-02 23:01:58,131] Trial 8 finished with value: 1.0256092548370361 and parameters: {'learning_rate': 3.858605937732559e-05, 'batch_size': 32, 'weight_decay': 0.006480529507329442, 'gradient_accumulation_steps': 2, 'max_grad_norm': 0.9975408363200495, 'adam_beta1': 0.9416039131296561, 'adam_beta2': 0.9891389779763595, 'fp16': False}. Best is trial 3 with value: 0.9684329032897949.\n",
      "C:\\Users\\danie\\AppData\\Local\\Temp\\ipykernel_36500\\2839455619.py:3: FutureWarning: suggest_loguniform has been deprecated in v3.0.0. This feature will be removed in v6.0.0. See https://github.com/optuna/optuna/releases/tag/v3.0.0. Use suggest_float(..., log=True) instead.\n",
      "  learning_rate = trial.suggest_loguniform(\"learning_rate\", 1e-5, 5e-5)\n",
      "C:\\Users\\danie\\AppData\\Local\\Temp\\ipykernel_36500\\2839455619.py:5: FutureWarning: suggest_loguniform has been deprecated in v3.0.0. This feature will be removed in v6.0.0. See https://github.com/optuna/optuna/releases/tag/v3.0.0. Use suggest_float(..., log=True) instead.\n",
      "  weight_decay = trial.suggest_loguniform(\"weight_decay\", 1e-4, 1e-2)\n",
      "Some weights of DistilBertForSequenceClassification were not initialized from the model checkpoint at distilbert-base-uncased and are newly initialized: ['classifier.bias', 'classifier.weight', 'pre_classifier.bias', 'pre_classifier.weight']\n",
      "You should probably TRAIN this model on a down-stream task to be able to use it for predictions and inference.\n"
     ]
    },
    {
     "data": {
      "application/vnd.jupyter.widget-view+json": {
       "model_id": "5916c0fd2ecf48d88ec6995eeea093da",
       "version_major": 2,
       "version_minor": 0
      },
      "text/plain": [
       "  0%|          | 0/833 [00:00<?, ?it/s]"
      ]
     },
     "metadata": {},
     "output_type": "display_data"
    },
    {
     "name": "stdout",
     "output_type": "stream",
     "text": [
      "{'loss': 1.316, 'grad_norm': 13.873703002929688, 'learning_rate': 1.5238382215746085e-05, 'epoch': 0.6}\n"
     ]
    },
    {
     "data": {
      "application/vnd.jupyter.widget-view+json": {
       "model_id": "d52f4e95b3254a44b460d2a8c5a46df4",
       "version_major": 2,
       "version_minor": 0
      },
      "text/plain": [
       "  0%|          | 0/313 [00:00<?, ?it/s]"
      ]
     },
     "metadata": {},
     "output_type": "display_data"
    },
    {
     "name": "stdout",
     "output_type": "stream",
     "text": [
      "{'eval_loss': 0.9549251794815063, 'eval_MSE': 0.9549251794815063, 'eval_MAE': 0.6764657497406006, 'eval_R2 Score': 0.3880348205566406, 'eval_Pseudo-Accuracy': 0.5068, 'eval_runtime': 7.2206, 'eval_samples_per_second': 346.232, 'eval_steps_per_second': 43.348, 'epoch': 1.0}\n",
      "{'train_runtime': 192.0285, 'train_samples_per_second': 104.151, 'train_steps_per_second': 4.338, 'train_loss': 1.152650464482668, 'epoch': 1.0}\n"
     ]
    },
    {
     "data": {
      "application/vnd.jupyter.widget-view+json": {
       "model_id": "dfcd551d73f6451089cbda39ef13d0e1",
       "version_major": 2,
       "version_minor": 0
      },
      "text/plain": [
       "  0%|          | 0/313 [00:00<?, ?it/s]"
      ]
     },
     "metadata": {},
     "output_type": "display_data"
    },
    {
     "name": "stderr",
     "output_type": "stream",
     "text": [
      "[I 2024-11-02 23:05:17,911] Trial 9 finished with value: 0.9549251794815063 and parameters: {'learning_rate': 3.789126085288504e-05, 'batch_size': 8, 'weight_decay': 0.00012004763149331018, 'gradient_accumulation_steps': 3, 'max_grad_norm': 0.6165896443082339, 'adam_beta1': 0.8849650337664438, 'adam_beta2': 0.99587105031126, 'fp16': True}. Best is trial 9 with value: 0.9549251794815063.\n"
     ]
    },
    {
     "name": "stdout",
     "output_type": "stream",
     "text": [
      "Best hyperparameters: {'learning_rate': 3.789126085288504e-05, 'batch_size': 8, 'weight_decay': 0.00012004763149331018, 'gradient_accumulation_steps': 3, 'max_grad_norm': 0.6165896443082339, 'adam_beta1': 0.8849650337664438, 'adam_beta2': 0.99587105031126, 'fp16': True}\n"
     ]
    }
   ],
   "source": [
    "# Run Optuna\n",
    "study = optuna.create_study(direction=\"minimize\")\n",
    "study.optimize(objective, n_trials=10)\n",
    "print(\"Best hyperparameters:\", study.best_params)"
   ]
  },
  {
   "cell_type": "markdown",
   "metadata": {},
   "source": [
    "### **Best hyperparameters: {'learning_rate': 3.789126085288504e-05, 'batch_size': 8, 'weight_decay': 0.00012004763149331018, 'gradient_accumulation_steps': 3, 'max_grad_norm': 0.6165896443082339, 'adam_beta1': 0.8849650337664438, 'adam_beta2': 0.99587105031126, 'fp16': True}**"
   ]
  },
  {
   "cell_type": "code",
   "execution_count": 6,
   "metadata": {},
   "outputs": [],
   "source": [
    "# Load tokenized dataset\n",
    "df = pd.read_csv('goodreads_15k_english_tokenized_filtered.csv')\n",
    "\n",
    "train_df, test_df = train_test_split(df, test_size=0.2, random_state=42)\n",
    "train_df, val_df = train_test_split(train_df, test_size=0.1, random_state=42)\n",
    "\n",
    "# Convert to Hugging Face Dataset format\n",
    "train_dataset = Dataset.from_pandas(train_df[['input_ids', 'attention_mask', 'rating']])\n",
    "val_dataset = Dataset.from_pandas(val_df[['input_ids', 'attention_mask', 'rating']])\n",
    "test_dataset = Dataset.from_pandas(test_df[['input_ids', 'attention_mask', 'rating']])"
   ]
  },
  {
   "cell_type": "code",
   "execution_count": 7,
   "metadata": {},
   "outputs": [
    {
     "data": {
      "application/vnd.jupyter.widget-view+json": {
       "model_id": "519ff36751c24cb9950cacac1e4973f3",
       "version_major": 2,
       "version_minor": 0
      },
      "text/plain": [
       "Map:   0%|          | 0/108000 [00:00<?, ? examples/s]"
      ]
     },
     "metadata": {},
     "output_type": "display_data"
    },
    {
     "data": {
      "application/vnd.jupyter.widget-view+json": {
       "model_id": "5992aa75bbce4b189ba155552234d71c",
       "version_major": 2,
       "version_minor": 0
      },
      "text/plain": [
       "Map:   0%|          | 0/12000 [00:00<?, ? examples/s]"
      ]
     },
     "metadata": {},
     "output_type": "display_data"
    },
    {
     "data": {
      "application/vnd.jupyter.widget-view+json": {
       "model_id": "87ac18a8b9b74d2faca40a3d22b22369",
       "version_major": 2,
       "version_minor": 0
      },
      "text/plain": [
       "Map:   0%|          | 0/30000 [00:00<?, ? examples/s]"
      ]
     },
     "metadata": {},
     "output_type": "display_data"
    }
   ],
   "source": [
    "# Adjust datasets for regression\n",
    "def convert_to_tensor(examples):\n",
    "    return {\n",
    "        'input_ids': torch.tensor(eval(examples['input_ids']), dtype=torch.long),\n",
    "        'attention_mask': torch.tensor(eval(examples['attention_mask']), dtype=torch.long),\n",
    "        'labels': torch.tensor(examples['rating'], dtype=torch.float)\n",
    "    }\n",
    "\n",
    "train_dataset = train_dataset.map(convert_to_tensor, remove_columns=['input_ids', 'attention_mask', 'rating'])\n",
    "val_dataset = val_dataset.map(convert_to_tensor, remove_columns=['input_ids', 'attention_mask', 'rating'])\n",
    "test_dataset = test_dataset.map(convert_to_tensor, remove_columns=['input_ids', 'attention_mask', 'rating'])"
   ]
  },
  {
   "cell_type": "code",
   "execution_count": 8,
   "metadata": {},
   "outputs": [
    {
     "name": "stderr",
     "output_type": "stream",
     "text": [
      "Some weights of DistilBertForSequenceClassification were not initialized from the model checkpoint at distilbert-base-uncased and are newly initialized: ['classifier.bias', 'classifier.weight', 'pre_classifier.bias', 'pre_classifier.weight']\n",
      "You should probably TRAIN this model on a down-stream task to be able to use it for predictions and inference.\n"
     ]
    }
   ],
   "source": [
    "model = AutoModelForSequenceClassification.from_pretrained(\"distilbert-base-uncased\", num_labels=1).to(\"cuda\")\n",
    "\n",
    "# Training config\n",
    "training_args = TrainingArguments(\n",
    "    output_dir=\"./results\",\n",
    "    evaluation_strategy=\"epoch\",\n",
    "    learning_rate=3.789126085288504e-05,\n",
    "    per_device_train_batch_size=8,\n",
    "    num_train_epochs=2,\n",
    "    weight_decay=0.00012004763149331018,\n",
    "    gradient_accumulation_steps=3,\n",
    "    max_grad_norm=0.6165896443082339,\n",
    "    adam_beta1=0.8849650337664438,\n",
    "    adam_beta2=0.99587105031126,\n",
    "    fp16=True,\n",
    "    save_strategy=\"epoch\",\n",
    "    logging_dir=\"./logs\",\n",
    "    load_best_model_at_end=True,\n",
    ")\n",
    "\n",
    "\n",
    "# Initializing the Trainer\n",
    "trainer = Trainer(\n",
    "    model=model,\n",
    "    args=training_args,\n",
    "    train_dataset=train_dataset,\n",
    "    eval_dataset=val_dataset,\n",
    "    compute_metrics=compute_metrics  # Include our custom metrics function\n",
    ")"
   ]
  },
  {
   "cell_type": "code",
   "execution_count": 9,
   "metadata": {},
   "outputs": [
    {
     "data": {
      "application/vnd.jupyter.widget-view+json": {
       "model_id": "968cb364cb59475a805a275caf4feb4e",
       "version_major": 2,
       "version_minor": 0
      },
      "text/plain": [
       "  0%|          | 0/9000 [00:00<?, ?it/s]"
      ]
     },
     "metadata": {},
     "output_type": "display_data"
    },
    {
     "name": "stdout",
     "output_type": "stream",
     "text": [
      "{'loss': 1.3662, 'grad_norm': 11.326437950134277, 'learning_rate': 3.579461108569207e-05, 'epoch': 0.11}\n",
      "{'loss': 0.9891, 'grad_norm': 8.118880271911621, 'learning_rate': 3.3693751178404334e-05, 'epoch': 0.22}\n",
      "{'loss': 0.9252, 'grad_norm': 24.246252059936523, 'learning_rate': 3.158868113102183e-05, 'epoch': 0.33}\n",
      "{'loss': 0.8748, 'grad_norm': 9.788773536682129, 'learning_rate': 2.9483611083639327e-05, 'epoch': 0.44}\n",
      "{'loss': 0.8206, 'grad_norm': 9.115904808044434, 'learning_rate': 2.7378541036256823e-05, 'epoch': 0.56}\n",
      "{'loss': 0.8113, 'grad_norm': 10.555482864379883, 'learning_rate': 2.5273470988874326e-05, 'epoch': 0.67}\n",
      "{'loss': 0.8231, 'grad_norm': 11.702322006225586, 'learning_rate': 2.3172611081586585e-05, 'epoch': 0.78}\n",
      "{'loss': 0.8395, 'grad_norm': 10.95873737335205, 'learning_rate': 2.1067541034204085e-05, 'epoch': 0.89}\n",
      "{'loss': 0.8097, 'grad_norm': 10.841680526733398, 'learning_rate': 1.896247098682158e-05, 'epoch': 1.0}\n"
     ]
    },
    {
     "data": {
      "application/vnd.jupyter.widget-view+json": {
       "model_id": "69cb9681d1884489895bc1fcb1c7800b",
       "version_major": 2,
       "version_minor": 0
      },
      "text/plain": [
       "  0%|          | 0/1500 [00:00<?, ?it/s]"
      ]
     },
     "metadata": {},
     "output_type": "display_data"
    },
    {
     "name": "stdout",
     "output_type": "stream",
     "text": [
      "{'eval_loss': 0.8616970777511597, 'eval_MSE': 0.8616970777511597, 'eval_MAE': 0.6124492287635803, 'eval_R2 Score': 0.4291159510612488, 'eval_Pseudo-Accuracy': 0.5403333333333333, 'eval_runtime': 33.9696, 'eval_samples_per_second': 353.257, 'eval_steps_per_second': 44.157, 'epoch': 1.0}\n",
      "{'loss': 0.6587, 'grad_norm': 11.657734870910645, 'learning_rate': 1.6857400939439077e-05, 'epoch': 1.11}\n",
      "{'loss': 0.689, 'grad_norm': 7.298577785491943, 'learning_rate': 1.4752330892056575e-05, 'epoch': 1.22}\n",
      "{'loss': 0.6564, 'grad_norm': 20.237459182739258, 'learning_rate': 1.2647260844674075e-05, 'epoch': 1.33}\n",
      "{'loss': 0.6741, 'grad_norm': 4.991103172302246, 'learning_rate': 1.054219079729157e-05, 'epoch': 1.44}\n",
      "{'loss': 0.6416, 'grad_norm': 8.629364013671875, 'learning_rate': 8.441330890003834e-06, 'epoch': 1.56}\n",
      "{'loss': 0.6654, 'grad_norm': 9.274346351623535, 'learning_rate': 6.3362608426213315e-06, 'epoch': 1.67}\n",
      "{'loss': 0.635, 'grad_norm': 7.929929256439209, 'learning_rate': 4.231190795238829e-06, 'epoch': 1.78}\n",
      "{'loss': 0.6505, 'grad_norm': 8.351276397705078, 'learning_rate': 2.1261207478563273e-06, 'epoch': 1.89}\n",
      "{'loss': 0.6244, 'grad_norm': 9.449366569519043, 'learning_rate': 2.5260840568590026e-08, 'epoch': 2.0}\n"
     ]
    },
    {
     "data": {
      "application/vnd.jupyter.widget-view+json": {
       "model_id": "52b2721d2e114632b20cb4ae4decc6b0",
       "version_major": 2,
       "version_minor": 0
      },
      "text/plain": [
       "  0%|          | 0/1500 [00:00<?, ?it/s]"
      ]
     },
     "metadata": {},
     "output_type": "display_data"
    },
    {
     "name": "stdout",
     "output_type": "stream",
     "text": [
      "{'eval_loss': 0.7740979194641113, 'eval_MSE': 0.7740979790687561, 'eval_MAE': 0.583720326423645, 'eval_R2 Score': 0.4871513247489929, 'eval_Pseudo-Accuracy': 0.5689166666666666, 'eval_runtime': 33.7141, 'eval_samples_per_second': 355.934, 'eval_steps_per_second': 44.492, 'epoch': 2.0}\n",
      "{'train_runtime': 2029.8754, 'train_samples_per_second': 106.41, 'train_steps_per_second': 4.434, 'train_loss': 0.7863535020616319, 'epoch': 2.0}\n"
     ]
    },
    {
     "data": {
      "text/plain": [
       "TrainOutput(global_step=9000, training_loss=0.7863535020616319, metrics={'train_runtime': 2029.8754, 'train_samples_per_second': 106.41, 'train_steps_per_second': 4.434, 'total_flos': 2.8612447838208e+16, 'train_loss': 0.7863535020616319, 'epoch': 2.0})"
      ]
     },
     "execution_count": 9,
     "metadata": {},
     "output_type": "execute_result"
    }
   ],
   "source": [
    "# Train the model\n",
    "trainer.train()"
   ]
  },
  {
   "cell_type": "code",
   "execution_count": 10,
   "metadata": {},
   "outputs": [
    {
     "data": {
      "application/vnd.jupyter.widget-view+json": {
       "model_id": "4e8d84b86e0348fb9d2ee641ac52c3e8",
       "version_major": 2,
       "version_minor": 0
      },
      "text/plain": [
       "  0%|          | 0/1500 [00:00<?, ?it/s]"
      ]
     },
     "metadata": {},
     "output_type": "display_data"
    },
    {
     "name": "stdout",
     "output_type": "stream",
     "text": [
      "eval_loss: 0.7740979194641113\n",
      "eval_MSE: 0.7740979790687561\n",
      "eval_MAE: 0.583720326423645\n",
      "eval_R2 Score: 0.4871513247489929\n",
      "eval_Pseudo-Accuracy: 0.5689166666666666\n",
      "eval_runtime: 33.875\n",
      "eval_samples_per_second: 354.244\n",
      "eval_steps_per_second: 44.28\n",
      "epoch: 2.0\n"
     ]
    }
   ],
   "source": [
    "# Evaluate\n",
    "results=trainer.evaluate()\n",
    "for metric, value in results.items():\n",
    "    print(f\"{metric}: {value}\")"
   ]
  },
  {
   "cell_type": "code",
   "execution_count": 11,
   "metadata": {},
   "outputs": [
    {
     "data": {
      "text/plain": [
       "('./fine_tuned_model_optuna\\\\tokenizer_config.json',\n",
       " './fine_tuned_model_optuna\\\\special_tokens_map.json',\n",
       " './fine_tuned_model_optuna\\\\vocab.txt',\n",
       " './fine_tuned_model_optuna\\\\added_tokens.json',\n",
       " './fine_tuned_model_optuna\\\\tokenizer.json')"
      ]
     },
     "execution_count": 11,
     "metadata": {},
     "output_type": "execute_result"
    }
   ],
   "source": [
    "# Save the model\n",
    "output_dir = \"./fine_tuned_model_optuna\"\n",
    "model.save_pretrained(output_dir)\n",
    "tokenizer = AutoTokenizer.from_pretrained(\"distilbert-base-uncased\")\n",
    "tokenizer.save_pretrained(output_dir)"
   ]
  },
  {
   "cell_type": "markdown",
   "metadata": {},
   "source": [
    "### **Plot some visualizations**\n",
    "- Loaded 700 samples and made their prediction using LLM\n",
    "- Predicted vs Actual Ratings\n",
    "- Residuals"
   ]
  },
  {
   "cell_type": "code",
   "execution_count": 2,
   "metadata": {},
   "outputs": [],
   "source": [
    "# Load the model and tokenizer\n",
    "model_path = \"./fine_tuned_model_optuna\"\n",
    "model = AutoModelForSequenceClassification.from_pretrained(model_path).to('cuda')\n",
    "tokenizer = AutoTokenizer.from_pretrained(model_path)\n",
    "\n",
    "df = pd.read_csv(\"goodreads_15k_english_tokenized_filtered.csv\").sample(n=700, random_state=42)\n",
    "df['input_ids'] = df['input_ids'].apply(ast.literal_eval)\n",
    "df['attention_mask'] = df['attention_mask'].apply(ast.literal_eval)\n",
    "input_ids = torch.tensor(df['input_ids'].tolist(), dtype=torch.long).to('cuda')\n",
    "attention_mask = torch.tensor(df['attention_mask'].tolist(), dtype=torch.long).to('cuda')\n",
    "inputs = {'input_ids': input_ids, 'attention_mask': attention_mask}"
   ]
  },
  {
   "cell_type": "code",
   "execution_count": 3,
   "metadata": {},
   "outputs": [],
   "source": [
    "# Get predictions\n",
    "with torch.no_grad():\n",
    "    outputs = model(**inputs)\n",
    "    df['predicted_rating'] = outputs.logits.cpu().squeeze().numpy()"
   ]
  },
  {
   "cell_type": "code",
   "execution_count": 4,
   "metadata": {},
   "outputs": [
    {
     "data": {
      "image/png": "[encoded data removed]",
      "text/plain": [
       "<Figure size 1000x700 with 1 Axes>"
      ]
     },
     "metadata": {},
     "output_type": "display_data"
    }
   ],
   "source": [
    "# Predicted vs actual ratings\n",
    "plt.figure(figsize=(10, 7))\n",
    "plt.scatter(df['rating'], df['predicted_rating'], alpha=0.5)\n",
    "plt.xlabel('Actual Ratings')\n",
    "plt.ylabel('Predicted Ratings')\n",
    "plt.title('Predicted vs Actual Ratings')\n",
    "plt.show()"
   ]
  },
  {
   "cell_type": "markdown",
   "metadata": {},
   "source": [
    "### **As we can see, the model shows a good accuracy. We can see that the model is still very confused with the \"0 ratings\". By training the LLM for more epochs, this problem might disapear. It can be better visualized in the following graph:**"
   ]
  },
  {
   "cell_type": "code",
   "execution_count": 5,
   "metadata": {},
   "outputs": [
    {
     "data": {
      "image/png": "[encoded data removed]",
      "text/plain": [
       "<Figure size 1200x600 with 1 Axes>"
      ]
     },
     "metadata": {},
     "output_type": "display_data"
    }
   ],
   "source": [
    "# Ratings distribution\n",
    "plt.figure(figsize=(12, 6))\n",
    "plt.hist(df['rating'], bins=np.arange(-0.5, 5.5, 1), alpha=0.5, label='Actual Ratings')\n",
    "plt.hist(df['predicted_rating'], bins=np.arange(-0.5, 5.5, 1), alpha=0.5, label='Predicted Ratings')\n",
    "plt.xlabel('Ratings')\n",
    "plt.ylabel('Frequency')\n",
    "plt.title('Distribution of Ratings')\n",
    "plt.legend()\n",
    "plt.show()"
   ]
  },
  {
   "cell_type": "code",
   "execution_count": 6,
   "metadata": {},
   "outputs": [
    {
     "data": {
      "image/png": "[encoded data removed]",
      "text/plain": [
       "<Figure size 1000x600 with 1 Axes>"
      ]
     },
     "metadata": {},
     "output_type": "display_data"
    }
   ],
   "source": [
    "# Residuals\n",
    "residuals = df['rating'] - df['predicted_rating']\n",
    "plt.figure(figsize=(10, 6))\n",
    "sns.histplot(residuals, kde=True)\n",
    "plt.xlabel('Residuals')\n",
    "plt.title('Distribution of Residuals')\n",
    "plt.show()"
   ]
  },
  {
   "cell_type": "markdown",
   "metadata": {},
   "source": [
    "### **The residuals are mostly centered around zero, with a slight skew to the negative side, indicating that the model tends to slightly overestimate ratings in some cases. The distribution appears roughly normal, suggesting a reasonable fit overall.**"
   ]
  },
  {
   "cell_type": "code",
   "execution_count": 7,
   "metadata": {},
   "outputs": [
    {
     "name": "stdout",
     "output_type": "stream",
     "text": [
      "Number of high residual examples: 35\n",
      "                                              review_text  rating  \\\n",
      "96398   Three and a half stars, -ish ... my reaction t...       0   \n",
      "34965   Sagan is always a good read. His brilliance is...       5   \n",
      "34257   I stumbled across this while searching for som...       0   \n",
      "142821  The author imagines the story and the human be...       3   \n",
      "95047   It's probably not fair of me to mark this as \"...       3   \n",
      "\n",
      "        predicted_rating  \n",
      "96398           3.229551  \n",
      "34965           3.382152  \n",
      "34257           2.284896  \n",
      "142821          4.639032  \n",
      "95047           1.112587  \n"
     ]
    }
   ],
   "source": [
    "# Misclassified examples (high residuals)\n",
    "threshold = residuals.abs().quantile(0.95)\n",
    "high_residuals = df[residuals.abs() > threshold]\n",
    "print(f\"Number of high residual examples: {len(high_residuals)}\")\n",
    "if len(high_residuals) > 0:\n",
    "    print(high_residuals[['review_text', 'rating', 'predicted_rating']].head(5))\n"
   ]
  }
 ],
 "metadata": {
  "kernelspec": {
   "display_name": "TAAC",
   "language": "python",
   "name": "python3"
  },
  "language_info": {
   "codemirror_mode": {
    "name": "ipython",
    "version": 3
   },
   "file_extension": ".py",
   "mimetype": "text/x-python",
   "name": "python",
   "nbconvert_exporter": "python",
   "pygments_lexer": "ipython3",
   "version": "3.10.14"
  }
 },
 "nbformat": 4,
 "nbformat_minor": 2
}
